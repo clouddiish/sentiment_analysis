{
 "cells": [
  {
   "cell_type": "markdown",
   "metadata": {},
   "source": [
    "# phase 1 - data preparation"
   ]
  },
  {
   "cell_type": "code",
   "execution_count": null,
   "metadata": {},
   "outputs": [],
   "source": [
    "import re\n",
    "\n",
    "from nltk.corpus import stopwords\n",
    "from nltk.stem import WordNetLemmatizer\n",
    "from nltk.tokenize import word_tokenize\n",
    "import nltk\n",
    "import numpy as np\n",
    "import pandas as pd\n",
    "from sklearn.model_selection import train_test_split\n",
    "\n",
    "\n",
    "nltk.download(\"stopwords\")\n",
    "nltk.download(\"wordnet\")"
   ]
  },
  {
   "cell_type": "markdown",
   "metadata": {},
   "source": [
    "## original data exploration"
   ]
  },
  {
   "cell_type": "code",
   "execution_count": null,
   "metadata": {},
   "outputs": [],
   "source": [
    "# select first 100 000 records\n",
    "\n",
    "chunks = pd.read_json(\"C:/Users/Lenovo/myFiles/nauka/studia/sem6/uczenie maszynowe/laby/sentiment_analysis/data/yelp_academic_dataset_review.json\", lines=True, chunksize=100000)\n",
    "\n",
    "for chunk in chunks:\n",
    "    chunk.to_json(\"../data/yelp_academic_dataset_review_short.json\", orient=\"records\", lines=True)\n",
    "    break"
   ]
  },
  {
   "cell_type": "code",
   "execution_count": null,
   "metadata": {},
   "outputs": [],
   "source": [
    "# check first records, columns and missing information\n",
    "\n",
    "data = pd.read_json(\"../data/yelp_academic_dataset_review_short.json\", lines=True)\n",
    "\n",
    "print(\"HEAD\")\n",
    "print(data.head())\n",
    "print(\"\\nCOLUMNS\")\n",
    "print(data.columns)\n",
    "print(\"\\nINFO\")\n",
    "print(data.info())\n"
   ]
  },
  {
   "cell_type": "markdown",
   "metadata": {},
   "source": [
    "## data cleaning"
   ]
  },
  {
   "cell_type": "code",
   "execution_count": null,
   "metadata": {},
   "outputs": [],
   "source": [
    "# drop irrelevant columns, process text and check for missing values\n",
    "\n",
    "def clean_text(text: str) -> str:\n",
    "    # remove special characters\n",
    "    text = re.sub(r\"[^a-zA-Z\\s]\", \"\", text)\n",
    "\n",
    "    # tokenize text\n",
    "    tokens = word_tokenize(text)\n",
    "\n",
    "    # remove stop words\n",
    "    stop_words = set(stopwords.words(\"english\"))\n",
    "    stop_words.discard('not')\n",
    "    filtered_tokens = [token for token in tokens if token.casefold() not in stop_words]\n",
    "\n",
    "    # lemmatize tokens\n",
    "    lemmatizer = WordNetLemmatizer()\n",
    "    lemmatized_tokens = [lemmatizer.lemmatize(token) for token in filtered_tokens]\n",
    "\n",
    "    # convert tokens to lowercase\n",
    "    lowercase_tokens = [token.lower() for token in lemmatized_tokens]\n",
    "\n",
    "    # join tokens into a single string\n",
    "    return \" \".join(lowercase_tokens)\n",
    "\n",
    "# drop irrelevant columns\n",
    "irrelevant_columns = [\"review_id\", \"user_id\", \"business_id\", \"useful\", \"funny\", \"cool\", \"date\"]\n",
    "for col in irrelevant_columns:\n",
    "    if col in data.columns:\n",
    "        print(f\"Dropping: {col}\")\n",
    "        data = data.drop(columns=[col])\n",
    "\n",
    "# apply cleaning function to data\n",
    "data[\"text\"] = data[\"text\"].apply(clean_text)\n",
    "\n",
    "# save cleaned data to a file\n",
    "with open(\"../data/yelp_reviews_cleaned.csv\", mode=\"a\", newline=\"\", encoding=\"utf-8\") as file:\n",
    "    data.to_csv(file, index=False)\n",
    "\n",
    "# view cleaned data columns\n",
    "print(\"COLUMNS\")\n",
    "print(data.columns)"
   ]
  },
  {
   "cell_type": "markdown",
   "metadata": {},
   "source": [
    "## split data into training and testing sets"
   ]
  },
  {
   "cell_type": "code",
   "execution_count": null,
   "metadata": {},
   "outputs": [],
   "source": [
    "df = pd.read_csv(\"../data/yelp_reviews_cleaned.csv\")\n",
    "\n",
    "# split into 80/20\n",
    "\n",
    "train_texts, test_texts, train_labels, test_labels = train_test_split(\n",
    "    df[\"text\"], df[\"stars\"], test_size=0.2, random_state=42\n",
    ")\n",
    "\n",
    "train_texts.to_csv(\"../data/80_20/train_texts.csv\")\n",
    "train_labels.to_csv(\"../data/80_20/train_labels.csv\")\n",
    "test_texts.to_csv(\"../data/80_20/test_texts.csv\")\n",
    "test_labels.to_csv(\"../data/80_20/test_labels.csv\")\n",
    "\n",
    "\n",
    "# split into 70/30\n",
    "\n",
    "train_texts, test_texts, train_labels, test_labels = train_test_split(\n",
    "    df[\"text\"], df[\"stars\"], test_size=0.3, random_state=42\n",
    ")\n",
    "\n",
    "train_texts.to_csv(\"../data/70_30/train_texts.csv\")\n",
    "train_labels.to_csv(\"../data/70_30/train_labels.csv\")\n",
    "test_texts.to_csv(\"../data/70_30/test_texts.csv\")\n",
    "test_labels.to_csv(\"../data/70_30/test_labels.csv\")"
   ]
  }
 ],
 "metadata": {
  "kernelspec": {
   "display_name": ".venv",
   "language": "python",
   "name": "python3"
  },
  "language_info": {
   "codemirror_mode": {
    "name": "ipython",
    "version": 3
   },
   "file_extension": ".py",
   "mimetype": "text/x-python",
   "name": "python",
   "nbconvert_exporter": "python",
   "pygments_lexer": "ipython3",
   "version": "3.10.0"
  }
 },
 "nbformat": 4,
 "nbformat_minor": 2
}
