{
 "cells": [
  {
   "cell_type": "markdown",
   "metadata": {},
   "source": [
    "# phase 1 - data preparation"
   ]
  },
  {
   "cell_type": "code",
   "execution_count": 1,
   "metadata": {},
   "outputs": [
    {
     "name": "stderr",
     "output_type": "stream",
     "text": [
      "[nltk_data] Downloading package stopwords to\n",
      "[nltk_data]     C:\\Users\\Maciej\\AppData\\Roaming\\nltk_data...\n",
      "[nltk_data]   Package stopwords is already up-to-date!\n",
      "[nltk_data] Downloading package wordnet to\n",
      "[nltk_data]     C:\\Users\\Maciej\\AppData\\Roaming\\nltk_data...\n",
      "[nltk_data]   Package wordnet is already up-to-date!\n"
     ]
    },
    {
     "data": {
      "text/plain": [
       "True"
      ]
     },
     "execution_count": 1,
     "metadata": {},
     "output_type": "execute_result"
    }
   ],
   "source": [
    "import re\n",
    "\n",
    "from nltk.corpus import stopwords\n",
    "from nltk.stem import WordNetLemmatizer\n",
    "from nltk.tokenize import word_tokenize\n",
    "import nltk\n",
    "import numpy as np\n",
    "import pandas as pd\n",
    "from sklearn.model_selection import train_test_split\n",
    "\n",
    "\n",
    "nltk.download(\"stopwords\")\n",
    "nltk.download(\"wordnet\")"
   ]
  },
  {
   "cell_type": "markdown",
   "metadata": {},
   "source": [
    "## original data exploration"
   ]
  },
  {
   "cell_type": "code",
   "execution_count": null,
   "metadata": {},
   "outputs": [],
   "source": [
    "# select first 100 000 records\n",
    "\n",
    "chunks = pd.read_json(\"../data/yelp_academic_dataset_review.json\", lines=True, chunksize=100000)\n",
    "\n",
    "for chunk in chunks:\n",
    "    chunk.to_json(\"../data/yelp_academic_dataset_review_short.json\", orient=\"records\", lines=True)\n",
    "    break"
   ]
  },
  {
   "cell_type": "code",
   "execution_count": 6,
   "metadata": {},
   "outputs": [
    {
     "name": "stdout",
     "output_type": "stream",
     "text": [
      "HEAD\n",
      "                review_id                 user_id             business_id  \\\n",
      "0  KU_O5udG6zpxOg-VcAEodg  mh_-eMZ6K5RLWhZyISBhwA  XQfwVwDr-v0ZS3_CbbE5Xw   \n",
      "1  BiTunyQ73aT9WBnpR9DZGw  OyoGAe7OKpv6SyGZT5g77Q  7ATYjTIgM3jUlt4UM3IypQ   \n",
      "2  saUsX_uimxRlCVr67Z4Jig  8g_iMtfSiwikVnbP2etR0A  YjUWPpI6HXG530lwP-fb2A   \n",
      "3  AqPFMleE6RsU23_auESxiA  _7bHUi9Uuf5__HHc_Q8guQ  kxX2SOes4o-D3ZQBkiMRfA   \n",
      "4  Sx8TMOWLNuJBWer-0pcmoA  bcjbaE6dDog4jkNY91ncLQ  e4Vwtrqf-wpJfwesgvdgxQ   \n",
      "\n",
      "   stars  useful  funny  cool  \\\n",
      "0      3       0      0     0   \n",
      "1      5       1      0     1   \n",
      "2      3       0      0     0   \n",
      "3      5       1      0     1   \n",
      "4      4       1      0     1   \n",
      "\n",
      "                                                text                date  \n",
      "0  If you decide to eat here, just be aware it is... 2018-07-07 22:09:11  \n",
      "1  I've taken a lot of spin classes over the year... 2012-01-03 15:28:18  \n",
      "2  Family diner. Had the buffet. Eclectic assortm... 2014-02-05 20:30:30  \n",
      "3  Wow!  Yummy, different,  delicious.   Our favo... 2015-01-04 00:01:03  \n",
      "4  Cute interior and owner (?) gave us tour of up... 2017-01-14 20:54:15  \n",
      "\n",
      "COLUMNS\n",
      "Index(['review_id', 'user_id', 'business_id', 'stars', 'useful', 'funny',\n",
      "       'cool', 'text', 'date'],\n",
      "      dtype='object')\n",
      "\n",
      "INFO\n",
      "<class 'pandas.core.frame.DataFrame'>\n",
      "RangeIndex: 100000 entries, 0 to 99999\n",
      "Data columns (total 9 columns):\n",
      " #   Column       Non-Null Count   Dtype         \n",
      "---  ------       --------------   -----         \n",
      " 0   review_id    100000 non-null  object        \n",
      " 1   user_id      100000 non-null  object        \n",
      " 2   business_id  100000 non-null  object        \n",
      " 3   stars        100000 non-null  int64         \n",
      " 4   useful       100000 non-null  int64         \n",
      " 5   funny        100000 non-null  int64         \n",
      " 6   cool         100000 non-null  int64         \n",
      " 7   text         100000 non-null  object        \n",
      " 8   date         100000 non-null  datetime64[ns]\n",
      "dtypes: datetime64[ns](1), int64(4), object(4)\n",
      "memory usage: 6.9+ MB\n",
      "None\n"
     ]
    }
   ],
   "source": [
    "# check first records, columns and missing information\n",
    "\n",
    "data = pd.read_json(\"../data/yelp_academic_dataset_review_short.json\", lines=True)\n",
    "\n",
    "print(\"HEAD\")\n",
    "print(data.head())\n",
    "print(\"\\nCOLUMNS\")\n",
    "print(data.columns)\n",
    "print(\"\\nINFO\")\n",
    "print(data.info())\n"
   ]
  },
  {
   "cell_type": "markdown",
   "metadata": {},
   "source": [
    "## data cleaning"
   ]
  },
  {
   "cell_type": "code",
   "execution_count": 7,
   "metadata": {},
   "outputs": [
    {
     "name": "stdout",
     "output_type": "stream",
     "text": [
      "Dropping: review_id\n",
      "Dropping: user_id\n",
      "Dropping: business_id\n",
      "Dropping: useful\n",
      "Dropping: funny\n",
      "Dropping: cool\n",
      "Dropping: date\n",
      "COLUMNS\n",
      "Index(['stars', 'text'], dtype='object')\n"
     ]
    }
   ],
   "source": [
    "# drop irrelevant columns, process text and check for missing values\n",
    "\n",
    "def clean_text(text: str) -> str:\n",
    "    # remove special characters\n",
    "    text = re.sub(r\"[^a-zA-Z\\s]\", \"\", text)\n",
    "\n",
    "    # tokenize text\n",
    "    tokens = word_tokenize(text)\n",
    "\n",
    "    # remove stop words\n",
    "    stop_words = set(stopwords.words(\"english\"))\n",
    "    stop_words.discard('not')\n",
    "    filtered_tokens = [token for token in tokens if token.casefold() not in stop_words]\n",
    "\n",
    "    # lemmatize tokens\n",
    "    lemmatizer = WordNetLemmatizer()\n",
    "    lemmatized_tokens = [lemmatizer.lemmatize(token) for token in filtered_tokens]\n",
    "\n",
    "    # convert tokens to lowercase\n",
    "    lowercase_tokens = [token.lower() for token in lemmatized_tokens]\n",
    "\n",
    "    # join tokens into a single string\n",
    "    return \" \".join(lowercase_tokens)\n",
    "\n",
    "# drop irrelevant columns\n",
    "irrelevant_columns = [\"review_id\", \"user_id\", \"business_id\", \"useful\", \"funny\", \"cool\", \"date\"]\n",
    "for col in irrelevant_columns:\n",
    "    if col in data.columns:\n",
    "        print(f\"Dropping: {col}\")\n",
    "        data = data.drop(columns=[col])\n",
    "\n",
    "# apply cleaning function to data\n",
    "data[\"text\"] = data[\"text\"].apply(clean_text)\n",
    "\n",
    "# save cleaned data to a file\n",
    "with open(\"../data/yelp_reviews_cleaned.csv\", mode=\"a\", newline=\"\", encoding=\"utf-8\") as file:\n",
    "    data.to_csv(file, index=False)\n",
    "\n",
    "# view cleaned data columns\n",
    "print(\"COLUMNS\")\n",
    "print(data.columns)"
   ]
  },
  {
   "cell_type": "markdown",
   "metadata": {},
   "source": [
    "## split data into training and testing sets"
   ]
  },
  {
   "cell_type": "code",
   "execution_count": 9,
   "metadata": {},
   "outputs": [],
   "source": [
    "df = pd.read_csv(\"../data/yelp_reviews_cleaned.csv\")\n",
    "\n",
    "# split into 80/20\n",
    "\n",
    "train_texts, test_texts, train_labels, test_labels = train_test_split(\n",
    "    df[\"text\"], df[\"stars\"], test_size=0.2, random_state=42\n",
    ")\n",
    "\n",
    "train_texts.to_csv(\"../data/80_20/train_texts.csv\")\n",
    "train_labels.to_csv(\"../data/80_20/train_labels.csv\")\n",
    "test_texts.to_csv(\"../data/80_20/test_texts.csv\")\n",
    "test_labels.to_csv(\"../data/80_20/test_labels.csv\")\n",
    "\n",
    "\n",
    "# split into 70/30\n",
    "\n",
    "train_texts, test_texts, train_labels, test_labels = train_test_split(\n",
    "    df[\"text\"], df[\"stars\"], test_size=0.3, random_state=42\n",
    ")\n",
    "\n",
    "train_texts.to_csv(\"../data/70_30/train_texts.csv\")\n",
    "train_labels.to_csv(\"../data/70_30/train_labels.csv\")\n",
    "test_texts.to_csv(\"../data/70_30/test_texts.csv\")\n",
    "test_labels.to_csv(\"../data/70_30/test_labels.csv\")"
   ]
  }
 ],
 "metadata": {
  "kernelspec": {
   "display_name": ".venv",
   "language": "python",
   "name": "python3"
  },
  "language_info": {
   "codemirror_mode": {
    "name": "ipython",
    "version": 3
   },
   "file_extension": ".py",
   "mimetype": "text/x-python",
   "name": "python",
   "nbconvert_exporter": "python",
   "pygments_lexer": "ipython3",
   "version": "3.10.0"
  }
 },
 "nbformat": 4,
 "nbformat_minor": 2
}
