{
 "cells": [
  {
   "cell_type": "code",
   "execution_count": 1,
   "metadata": {},
   "outputs": [],
   "source": [
    "from sklearn.feature_extraction.text import CountVectorizer\n",
    "import numpy as np\n",
    "import pandas as pd\n",
    "from gensim.models import Word2Vec\n",
    "from nltk.tokenize import word_tokenize"
   ]
  },
  {
   "cell_type": "code",
   "execution_count": 9,
   "metadata": {},
   "outputs": [],
   "source": [
    "def apply_bow_to_file(filename: str) -> None:\n",
    "    data = pd.read_csv(filename)\n",
    "    data = data.dropna(subset=[\"text\"]) # remove rows where text is NaN\n",
    "\n",
    "    corpus = data[\"text\"].values\n",
    "    indexes = data[\"index\"].values\n",
    "\n",
    "    vectorizer = CountVectorizer()\n",
    "    X = vectorizer.fit_transform(corpus)\n",
    "\n",
    "    bow_data = []\n",
    "    for i, doc_index in enumerate(indexes):\n",
    "        nonzero_indices = X[i].nonzero()[1]  # Get indices of nonzero values\n",
    "        nonzero_values = X[i].data  # Get the actual nonzero values\n",
    "        sparse_representation = {int(idx): int(val) for idx, val in zip(nonzero_indices, nonzero_values)}\n",
    "        bow_data.append({\"index\": doc_index, \"text\": sparse_representation})\n",
    "\n",
    "    output_filename = filename.split(\".\")[0] + \"_bow.csv\"\n",
    "    pd.DataFrame(bow_data).to_csv(output_filename, index=False)"
   ]
  },
  {
   "cell_type": "code",
   "execution_count": 10,
   "metadata": {},
   "outputs": [],
   "source": [
    "apply_bow_to_file(\"C:/Users/Lenovo/myFiles/nauka/studia/sem6/uczenie maszynowe/laby/sentiment_analysis/data/80_20/test_texts.csv\")"
   ]
  },
  {
   "cell_type": "code",
   "execution_count": 11,
   "metadata": {},
   "outputs": [],
   "source": [
    "apply_bow_to_file(\"C:/Users/Lenovo/myFiles/nauka/studia/sem6/uczenie maszynowe/laby/sentiment_analysis/data/80_20/train_texts.csv\")"
   ]
  },
  {
   "cell_type": "code",
   "execution_count": 12,
   "metadata": {},
   "outputs": [],
   "source": [
    "apply_bow_to_file(\"C:/Users/Lenovo/myFiles/nauka/studia/sem6/uczenie maszynowe/laby/sentiment_analysis/data/70_30/test_texts.csv\")"
   ]
  },
  {
   "cell_type": "code",
   "execution_count": 13,
   "metadata": {},
   "outputs": [],
   "source": [
    "apply_bow_to_file(\"C:/Users/Lenovo/myFiles/nauka/studia/sem6/uczenie maszynowe/laby/sentiment_analysis/data/70_30/train_texts.csv\")"
   ]
  },
  {
   "cell_type": "code",
   "execution_count": 13,
   "metadata": {},
   "outputs": [],
   "source": [
    "def apply_word2vec_to_file(filename: str) -> None:\n",
    "    data = pd.read_csv(filename)\n",
    "    data = data.dropna(subset=[\"text\"])\n",
    "\n",
    "    corpus = data[\"text\"].values\n",
    "    indexes = data[\"index\"].values\n",
    "\n",
    "    corpus_tokenized = [word_tokenize(sentence) for sentence in corpus]\n",
    "\n",
    "    model = Word2Vec(sentences=corpus_tokenized, vector_size=50, window=5, min_count=5, workers=4, epochs=5)\n",
    "    model.save(\"../models/word2vec_model\")\n",
    "    \n",
    "    word2vec_data = []\n",
    "    for i, doc_index in enumerate(indexes):\n",
    "        review_as_word2vec = []\n",
    "        for token in corpus_tokenized[i]:\n",
    "            if token in model.wv:\n",
    "                review_as_word2vec.append(model.wv[token].tolist())\n",
    "            else:\n",
    "                review_as_word2vec.append([0.0] * model.vector_size)\n",
    "        word2vec_data.append({\"index\": doc_index, \"text\": review_as_word2vec})\n",
    "\n",
    "    output_filename = filename.split(\".\")[0] + \"_w2v.csv\"\n",
    "    pd.DataFrame(word2vec_data).to_csv(output_filename, index=False)"
   ]
  },
  {
   "cell_type": "code",
   "execution_count": 14,
   "metadata": {},
   "outputs": [],
   "source": [
    "apply_word2vec_to_file(\"C:/Users/Lenovo/myFiles/nauka/studia/sem6/uczenie maszynowe/laby/sentiment_analysis/data/80_20/test_texts.csv\")"
   ]
  },
  {
   "cell_type": "code",
   "execution_count": 15,
   "metadata": {},
   "outputs": [],
   "source": [
    "apply_word2vec_to_file(\"C:/Users/Lenovo/myFiles/nauka/studia/sem6/uczenie maszynowe/laby/sentiment_analysis/data/80_20/train_texts.csv\")"
   ]
  },
  {
   "cell_type": "code",
   "execution_count": 16,
   "metadata": {},
   "outputs": [],
   "source": [
    "apply_word2vec_to_file(\"C:/Users/Lenovo/myFiles/nauka/studia/sem6/uczenie maszynowe/laby/sentiment_analysis/data/70_30/test_texts.csv\")"
   ]
  },
  {
   "cell_type": "code",
   "execution_count": 17,
   "metadata": {},
   "outputs": [],
   "source": [
    "apply_word2vec_to_file(\"C:/Users/Lenovo/myFiles/nauka/studia/sem6/uczenie maszynowe/laby/sentiment_analysis/data/70_30/train_texts.csv\")"
   ]
  }
 ],
 "metadata": {
  "kernelspec": {
   "display_name": ".venv",
   "language": "python",
   "name": "python3"
  },
  "language_info": {
   "codemirror_mode": {
    "name": "ipython",
    "version": 3
   },
   "file_extension": ".py",
   "mimetype": "text/x-python",
   "name": "python",
   "nbconvert_exporter": "python",
   "pygments_lexer": "ipython3",
   "version": "3.13.2"
  }
 },
 "nbformat": 4,
 "nbformat_minor": 2
}
