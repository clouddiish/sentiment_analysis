{
 "cells": [
  {
   "cell_type": "markdown",
   "metadata": {},
   "source": [
    "# phase 2 - convert raw text into numeric representations"
   ]
  },
  {
   "cell_type": "code",
   "execution_count": 3,
   "metadata": {},
   "outputs": [],
   "source": [
    "from sklearn.feature_extraction.text import CountVectorizer\n",
    "import numpy as np\n",
    "import pandas as pd\n",
    "from gensim.models import Word2Vec\n",
    "from nltk.tokenize import word_tokenize"
   ]
  },
  {
   "cell_type": "markdown",
   "metadata": {},
   "source": [
    "## Bag of Words"
   ]
  },
  {
   "cell_type": "code",
   "execution_count": 2,
   "metadata": {},
   "outputs": [],
   "source": [
    "def apply_bow_to_file(input_filename: str, output_filename: str) -> None:\n",
    "    # read data from input file\n",
    "    data = pd.read_csv(input_filename)\n",
    "\n",
    "    # remove rows where text is NaN\n",
    "    data = data.dropna(subset=[\"text\"]) \n",
    "\n",
    "    # extract corpus and indexes\n",
    "    corpus = data[\"text\"].values\n",
    "    indexes = data[\"index\"].values\n",
    "    \n",
    "    # create BoW model\n",
    "    vectorizer = CountVectorizer()\n",
    "    X = vectorizer.fit_transform(corpus)\n",
    "\n",
    "    bow_data = []\n",
    "    for i, doc_index in enumerate(indexes):\n",
    "        # get indices of nonzero word counts\n",
    "        nonzero_indices = X[i].nonzero()[1]  \n",
    "        # get the actual nonzero word counts\n",
    "        nonzero_values = X[i].data  \n",
    "        # create a sparse dictionary of word index -> count for the document\n",
    "        sparse_representation = {int(idx): int(val) for idx, val in zip(nonzero_indices, nonzero_values)}\n",
    "        # append the representation along with the document's original index\n",
    "        bow_data.append({\"index\": doc_index, \"text\": sparse_representation})\n",
    "\n",
    "    # save the processed BoW data to the output CSV file\n",
    "    pd.DataFrame(bow_data).to_csv(output_filename, index=False)"
   ]
  },
  {
   "cell_type": "code",
   "execution_count": 4,
   "metadata": {},
   "outputs": [],
   "source": [
    "apply_bow_to_file(\"../data/80_20/test_texts.csv\", \"../data/80_20/test_texts_bow.csv\")"
   ]
  },
  {
   "cell_type": "code",
   "execution_count": 5,
   "metadata": {},
   "outputs": [],
   "source": [
    "apply_bow_to_file(\"../data/80_20/train_texts.csv\", \"../data/80_20/train_texts_bow.csv\")"
   ]
  },
  {
   "cell_type": "code",
   "execution_count": 6,
   "metadata": {},
   "outputs": [],
   "source": [
    "apply_bow_to_file(\"../data/70_30/test_texts.csv\", \"../data/70_30/test_texts_bow.csv\")"
   ]
  },
  {
   "cell_type": "code",
   "execution_count": 7,
   "metadata": {},
   "outputs": [],
   "source": [
    "apply_bow_to_file(\"../data/70_30/train_texts.csv\", \"../data/70_30/train_texts_bow.csv\")"
   ]
  },
  {
   "cell_type": "markdown",
   "metadata": {},
   "source": [
    "## Word2Vec"
   ]
  },
  {
   "cell_type": "code",
   "execution_count": 4,
   "metadata": {},
   "outputs": [],
   "source": [
    "def apply_word2vec_to_file(input_filename: str, output_filename: str) -> None:\n",
    "    # read data from input file\n",
    "    data = pd.read_csv(input_filename)\n",
    "    \n",
    "    # remove rows where text is NaN\n",
    "    data = data.dropna(subset=[\"text\"])\n",
    "\n",
    "    # extract corpus and indexes\n",
    "    corpus = data[\"text\"].values\n",
    "    indexes = data[\"index\"].values\n",
    "\n",
    "    # convert corpus into a list of lists of tokens\n",
    "    corpus_tokenized = [word_tokenize(sentence) for sentence in corpus]\n",
    "\n",
    "    # train the Word2Vec model and save it\n",
    "    model = Word2Vec(sentences=corpus_tokenized, vector_size=50, window=5, min_count=5, workers=4, epochs=5)\n",
    "    model.save(\"../models/word2vec_model\")\n",
    "    \n",
    "    word2vec_data = []\n",
    "    for i, doc_index in enumerate(indexes):\n",
    "        review_as_word2vec = []\n",
    "        for token in corpus_tokenized[i]:\n",
    "            if token in model.wv:\n",
    "                # if the word is in the vocabulary, get its vector\n",
    "                review_as_word2vec.append(model.wv[token].tolist())\n",
    "            else:\n",
    "                # if not in vocabulary, represent it as a zero vector\n",
    "                review_as_word2vec.append([0.0] * model.vector_size)\n",
    "        # append the index and vectorized review to the output list\n",
    "        word2vec_data.append({\"index\": doc_index, \"text\": review_as_word2vec})\n",
    "\n",
    "    # save the processed w2v data to the output CSV file\n",
    "    pd.DataFrame(word2vec_data).to_csv(output_filename, index=False)"
   ]
  },
  {
   "cell_type": "code",
   "execution_count": 5,
   "metadata": {},
   "outputs": [],
   "source": [
    "apply_word2vec_to_file(\"../data/80_20/test_texts.csv\", \"../data/80_20/test_texts_w2v.csv\")"
   ]
  },
  {
   "cell_type": "code",
   "execution_count": 6,
   "metadata": {},
   "outputs": [],
   "source": [
    "apply_word2vec_to_file(\"../data/80_20/train_texts.csv\", \"../data/80_20/train_texts_w2v.csv\")"
   ]
  },
  {
   "cell_type": "code",
   "execution_count": 7,
   "metadata": {},
   "outputs": [],
   "source": [
    "apply_word2vec_to_file(\"../data/70_30/test_texts.csv\", \"../data/70_30/test_texts_w2v.csv\")"
   ]
  },
  {
   "cell_type": "code",
   "execution_count": 8,
   "metadata": {},
   "outputs": [],
   "source": [
    "apply_word2vec_to_file(\"../data/70_30/train_texts.csv\", \"../data/70_30/train_texts_w2v.csv\")"
   ]
  }
 ],
 "metadata": {
  "kernelspec": {
   "display_name": ".venv",
   "language": "python",
   "name": "python3"
  },
  "language_info": {
   "codemirror_mode": {
    "name": "ipython",
    "version": 3
   },
   "file_extension": ".py",
   "mimetype": "text/x-python",
   "name": "python",
   "nbconvert_exporter": "python",
   "pygments_lexer": "ipython3",
   "version": "3.10.0"
  }
 },
 "nbformat": 4,
 "nbformat_minor": 2
}
