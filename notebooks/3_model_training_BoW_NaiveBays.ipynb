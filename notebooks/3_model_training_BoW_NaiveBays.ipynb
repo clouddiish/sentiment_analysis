{
 "cells": [
  {
   "cell_type": "markdown",
   "id": "4f2de36f",
   "metadata": {},
   "source": [
    "# phase 3.1 - model training: Naive Bayes"
   ]
  },
  {
   "cell_type": "code",
   "execution_count": null,
   "id": "36ed9ed9",
   "metadata": {},
   "outputs": [],
   "source": [
    "import pandas as pd\n",
    "from sklearn.naive_bayes import MultinomialNB\n",
    "import pickle\n",
    "import os\n",
    "import ast\n",
    "from sklearn.feature_extraction import DictVectorizer"
   ]
  },
  {
   "cell_type": "markdown",
   "id": "5b59aafb",
   "metadata": {},
   "source": [
    "## 5-star classification"
   ]
  },
  {
   "cell_type": "code",
   "execution_count": null,
   "id": "e01f35ec",
   "metadata": {},
   "outputs": [],
   "source": [
    "def train_native_bayes_on_bow_5_stars(train_texts_path: str, train_labels_path: str, model_path: str) -> None:\n",
    "    # load data\n",
    "    X_train_raw = pd.read_csv(train_texts_path, index_col=0)    \n",
    "    y_train = pd.read_csv(train_labels_path, index_col=0).squeeze()\n",
    "\n",
    "    # align indexes\n",
    "    X_train_raw, y_train = X_train_raw.align(y_train, join='inner', axis=0)\n",
    "\n",
    "    # convert strings to dictrionaries\n",
    "    X_train_dicts = X_train_raw.iloc[:, 0].apply(ast.literal_eval)\n",
    "\n",
    "    # convert to matrix\n",
    "    vectorizer = DictVectorizer(sparse=True)\n",
    "    X_train = vectorizer.fit_transform(X_train_dicts)\n",
    "\n",
    "    # train Naive Bayes\n",
    "    model = MultinomialNB()\n",
    "    model.fit(X_train, y_train)\n",
    "\n",
    "    # pack model and vectorizer\n",
    "    model_package = {\n",
    "        'vectorizer': vectorizer,\n",
    "        'model': model\n",
    "    }\n",
    "\n",
    "    # save to one file\n",
    "    with open(model_path, 'wb') as file:\n",
    "        pickle.dump(model_package, file)"
   ]
  },
  {
   "cell_type": "code",
   "execution_count": null,
   "id": "0d076eaa",
   "metadata": {},
   "outputs": [],
   "source": [
    "# 70/30 version\n",
    "\n",
    "train_native_bayes_on_bow_5_stars(\n",
    "    train_texts_path='../data/70_30/train_texts_bow.csv', \n",
    "    train_labels_path='../data/70_30/train_labels.csv', \n",
    "    model_path='../models/BoW_70_30.pkl'\n",
    "    )"
   ]
  },
  {
   "cell_type": "code",
   "execution_count": null,
   "id": "f6ad48d8",
   "metadata": {},
   "outputs": [],
   "source": [
    "# 80/20 version\n",
    "\n",
    "train_native_bayes_on_bow_5_stars(\n",
    "    train_texts_path='../data/80_20/train_texts_bow.csv', \n",
    "    train_labels_path='../data/80_20/train_labels.csv', \n",
    "    model_path='../models/BoW_80_20.pkl'\n",
    "    )"
   ]
  },
  {
   "cell_type": "markdown",
   "id": "33d821a9",
   "metadata": {},
   "source": [
    "## positive/neutral/negative classification"
   ]
  },
  {
   "cell_type": "code",
   "execution_count": 29,
   "id": "57755557",
   "metadata": {},
   "outputs": [],
   "source": [
    "def train_native_bayes_on_bow_pnn(train_texts_path: str, train_labels_path: str, model_path: str) -> None:\n",
    "    # load data\n",
    "    X_train_raw = pd.read_csv(train_texts_path, index_col=0)    \n",
    "    y_train = pd.read_csv(train_labels_path, index_col=0).squeeze()\n",
    "\n",
    "    # map stars to sentiments\n",
    "    def map_sentiment(star_rating):\n",
    "        if star_rating in [4, 5]:\n",
    "            return 'Positive'\n",
    "        elif star_rating == 3:\n",
    "            return 'Neutral'\n",
    "        else:\n",
    "            return 'Negative'\n",
    "\n",
    "    y_train = y_train.map(map_sentiment)\n",
    "\n",
    "    # align indexes\n",
    "    X_train_raw, y_train = X_train_raw.align(y_train, join='inner', axis=0)\n",
    "\n",
    "    # convert strings to dictrionaries\n",
    "    X_train_dicts = X_train_raw.iloc[:, 0].apply(ast.literal_eval)\n",
    "\n",
    "    # convert to matrix\n",
    "    vectorizer = DictVectorizer(sparse=True)\n",
    "    X_train = vectorizer.fit_transform(X_train_dicts)\n",
    "\n",
    "    # train Naive Bayes\n",
    "    model = MultinomialNB()\n",
    "    model.fit(X_train, y_train)\n",
    "\n",
    "    # pack model and vectorizer\n",
    "    model_package = {\n",
    "        'vectorizer': vectorizer,\n",
    "        'model': model\n",
    "    }\n",
    "\n",
    "    # save to one file\n",
    "    with open(model_path, 'wb') as file:\n",
    "        pickle.dump(model_package, file)"
   ]
  },
  {
   "cell_type": "code",
   "execution_count": 30,
   "id": "57a3c7ff",
   "metadata": {},
   "outputs": [],
   "source": [
    "# 70/30 version\n",
    "\n",
    "train_native_bayes_on_bow_pnn(\n",
    "    train_texts_path='../data/70_30/train_texts_bow.csv',\n",
    "    train_labels_path='../data/70_30/train_labels.csv',\n",
    "    model_path='../models/BoW_70_30_PNN.pkl'\n",
    "    )"
   ]
  },
  {
   "cell_type": "code",
   "execution_count": null,
   "id": "6b640ef2",
   "metadata": {},
   "outputs": [],
   "source": [
    "# 80/20 version\n",
    "\n",
    "train_native_bayes_on_bow_pnn(\n",
    "    train_texts_path='../data/80_20/train_texts_bow.csv',\n",
    "    train_labels_path='../data/80_20/train_labels.csv',\n",
    "    model_path='../models/BoW_80_20_PNN.pkl'\n",
    "    )"
   ]
  }
 ],
 "metadata": {
  "kernelspec": {
   "display_name": ".venv",
   "language": "python",
   "name": "python3"
  },
  "language_info": {
   "codemirror_mode": {
    "name": "ipython",
    "version": 3
   },
   "file_extension": ".py",
   "mimetype": "text/x-python",
   "name": "python",
   "nbconvert_exporter": "python",
   "pygments_lexer": "ipython3",
   "version": "3.10.0"
  }
 },
 "nbformat": 4,
 "nbformat_minor": 5
}
